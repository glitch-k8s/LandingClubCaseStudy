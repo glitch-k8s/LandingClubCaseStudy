{
 "cells": [
  {
   "cell_type": "code",
   "execution_count": 28,
   "id": "1a622d8a-c6f3-4fab-bedd-b709509f3c90",
   "metadata": {},
   "outputs": [],
   "source": [
    "# import libraries\n",
    "import numpy as np\n",
    "import pandas as pd"
   ]
  },
  {
   "cell_type": "code",
   "execution_count": 29,
   "id": "ca859b25-ec68-440a-8255-3e778f3adaa7",
   "metadata": {},
   "outputs": [
    {
     "name": "stderr",
     "output_type": "stream",
     "text": [
      "C:\\Users\\nishant.ranjan\\AppData\\Local\\Temp\\ipykernel_33980\\3890635036.py:1: DtypeWarning: Columns (47) have mixed types. Specify dtype option on import or set low_memory=False.\n",
      "  df = pd.read_csv(\"D://project//LandingClubCaseStudy//loan.csv\")\n"
     ]
    }
   ],
   "source": [
    "# read loan file\n",
    "df = pd.read_csv(\"D://project//LandingClubCaseStudy//loan.csv\")"
   ]
  },
  {
   "cell_type": "code",
   "execution_count": 30,
   "id": "a0b4d68e-ea8d-4038-9fc7-42b5d80956cf",
   "metadata": {},
   "outputs": [
    {
     "name": "stdout",
     "output_type": "stream",
     "text": [
      "<class 'pandas.core.frame.DataFrame'>\n",
      "RangeIndex: 39717 entries, 0 to 39716\n",
      "Columns: 111 entries, id to total_il_high_credit_limit\n",
      "dtypes: float64(74), int64(13), object(24)\n",
      "memory usage: 33.6+ MB\n"
     ]
    }
   ],
   "source": [
    "df.info()\n",
    "#total 111 columns"
   ]
  },
  {
   "cell_type": "code",
   "execution_count": 31,
   "id": "24d05cdb-0ea5-4978-8834-06492ac6fbdc",
   "metadata": {},
   "outputs": [
    {
     "data": {
      "text/html": [
       "<div>\n",
       "<style scoped>\n",
       "    .dataframe tbody tr th:only-of-type {\n",
       "        vertical-align: middle;\n",
       "    }\n",
       "\n",
       "    .dataframe tbody tr th {\n",
       "        vertical-align: top;\n",
       "    }\n",
       "\n",
       "    .dataframe thead th {\n",
       "        text-align: right;\n",
       "    }\n",
       "</style>\n",
       "<table border=\"1\" class=\"dataframe\">\n",
       "  <thead>\n",
       "    <tr style=\"text-align: right;\">\n",
       "      <th></th>\n",
       "      <th>id</th>\n",
       "      <th>member_id</th>\n",
       "      <th>loan_amnt</th>\n",
       "      <th>funded_amnt</th>\n",
       "      <th>funded_amnt_inv</th>\n",
       "      <th>term</th>\n",
       "      <th>int_rate</th>\n",
       "      <th>installment</th>\n",
       "      <th>grade</th>\n",
       "      <th>sub_grade</th>\n",
       "      <th>...</th>\n",
       "      <th>num_tl_90g_dpd_24m</th>\n",
       "      <th>num_tl_op_past_12m</th>\n",
       "      <th>pct_tl_nvr_dlq</th>\n",
       "      <th>percent_bc_gt_75</th>\n",
       "      <th>pub_rec_bankruptcies</th>\n",
       "      <th>tax_liens</th>\n",
       "      <th>tot_hi_cred_lim</th>\n",
       "      <th>total_bal_ex_mort</th>\n",
       "      <th>total_bc_limit</th>\n",
       "      <th>total_il_high_credit_limit</th>\n",
       "    </tr>\n",
       "  </thead>\n",
       "  <tbody>\n",
       "    <tr>\n",
       "      <th>0</th>\n",
       "      <td>1077501</td>\n",
       "      <td>1296599</td>\n",
       "      <td>5000</td>\n",
       "      <td>5000</td>\n",
       "      <td>4975.0</td>\n",
       "      <td>36 months</td>\n",
       "      <td>10.65%</td>\n",
       "      <td>162.87</td>\n",
       "      <td>B</td>\n",
       "      <td>B2</td>\n",
       "      <td>...</td>\n",
       "      <td>NaN</td>\n",
       "      <td>NaN</td>\n",
       "      <td>NaN</td>\n",
       "      <td>NaN</td>\n",
       "      <td>0.0</td>\n",
       "      <td>0.0</td>\n",
       "      <td>NaN</td>\n",
       "      <td>NaN</td>\n",
       "      <td>NaN</td>\n",
       "      <td>NaN</td>\n",
       "    </tr>\n",
       "    <tr>\n",
       "      <th>1</th>\n",
       "      <td>1077430</td>\n",
       "      <td>1314167</td>\n",
       "      <td>2500</td>\n",
       "      <td>2500</td>\n",
       "      <td>2500.0</td>\n",
       "      <td>60 months</td>\n",
       "      <td>15.27%</td>\n",
       "      <td>59.83</td>\n",
       "      <td>C</td>\n",
       "      <td>C4</td>\n",
       "      <td>...</td>\n",
       "      <td>NaN</td>\n",
       "      <td>NaN</td>\n",
       "      <td>NaN</td>\n",
       "      <td>NaN</td>\n",
       "      <td>0.0</td>\n",
       "      <td>0.0</td>\n",
       "      <td>NaN</td>\n",
       "      <td>NaN</td>\n",
       "      <td>NaN</td>\n",
       "      <td>NaN</td>\n",
       "    </tr>\n",
       "    <tr>\n",
       "      <th>2</th>\n",
       "      <td>1077175</td>\n",
       "      <td>1313524</td>\n",
       "      <td>2400</td>\n",
       "      <td>2400</td>\n",
       "      <td>2400.0</td>\n",
       "      <td>36 months</td>\n",
       "      <td>15.96%</td>\n",
       "      <td>84.33</td>\n",
       "      <td>C</td>\n",
       "      <td>C5</td>\n",
       "      <td>...</td>\n",
       "      <td>NaN</td>\n",
       "      <td>NaN</td>\n",
       "      <td>NaN</td>\n",
       "      <td>NaN</td>\n",
       "      <td>0.0</td>\n",
       "      <td>0.0</td>\n",
       "      <td>NaN</td>\n",
       "      <td>NaN</td>\n",
       "      <td>NaN</td>\n",
       "      <td>NaN</td>\n",
       "    </tr>\n",
       "    <tr>\n",
       "      <th>3</th>\n",
       "      <td>1076863</td>\n",
       "      <td>1277178</td>\n",
       "      <td>10000</td>\n",
       "      <td>10000</td>\n",
       "      <td>10000.0</td>\n",
       "      <td>36 months</td>\n",
       "      <td>13.49%</td>\n",
       "      <td>339.31</td>\n",
       "      <td>C</td>\n",
       "      <td>C1</td>\n",
       "      <td>...</td>\n",
       "      <td>NaN</td>\n",
       "      <td>NaN</td>\n",
       "      <td>NaN</td>\n",
       "      <td>NaN</td>\n",
       "      <td>0.0</td>\n",
       "      <td>0.0</td>\n",
       "      <td>NaN</td>\n",
       "      <td>NaN</td>\n",
       "      <td>NaN</td>\n",
       "      <td>NaN</td>\n",
       "    </tr>\n",
       "    <tr>\n",
       "      <th>4</th>\n",
       "      <td>1075358</td>\n",
       "      <td>1311748</td>\n",
       "      <td>3000</td>\n",
       "      <td>3000</td>\n",
       "      <td>3000.0</td>\n",
       "      <td>60 months</td>\n",
       "      <td>12.69%</td>\n",
       "      <td>67.79</td>\n",
       "      <td>B</td>\n",
       "      <td>B5</td>\n",
       "      <td>...</td>\n",
       "      <td>NaN</td>\n",
       "      <td>NaN</td>\n",
       "      <td>NaN</td>\n",
       "      <td>NaN</td>\n",
       "      <td>0.0</td>\n",
       "      <td>0.0</td>\n",
       "      <td>NaN</td>\n",
       "      <td>NaN</td>\n",
       "      <td>NaN</td>\n",
       "      <td>NaN</td>\n",
       "    </tr>\n",
       "  </tbody>\n",
       "</table>\n",
       "<p>5 rows × 111 columns</p>\n",
       "</div>"
      ],
      "text/plain": [
       "        id  member_id  loan_amnt  funded_amnt  funded_amnt_inv        term  \\\n",
       "0  1077501    1296599       5000         5000           4975.0   36 months   \n",
       "1  1077430    1314167       2500         2500           2500.0   60 months   \n",
       "2  1077175    1313524       2400         2400           2400.0   36 months   \n",
       "3  1076863    1277178      10000        10000          10000.0   36 months   \n",
       "4  1075358    1311748       3000         3000           3000.0   60 months   \n",
       "\n",
       "  int_rate  installment grade sub_grade  ... num_tl_90g_dpd_24m  \\\n",
       "0   10.65%       162.87     B        B2  ...                NaN   \n",
       "1   15.27%        59.83     C        C4  ...                NaN   \n",
       "2   15.96%        84.33     C        C5  ...                NaN   \n",
       "3   13.49%       339.31     C        C1  ...                NaN   \n",
       "4   12.69%        67.79     B        B5  ...                NaN   \n",
       "\n",
       "  num_tl_op_past_12m pct_tl_nvr_dlq  percent_bc_gt_75 pub_rec_bankruptcies  \\\n",
       "0                NaN            NaN               NaN                  0.0   \n",
       "1                NaN            NaN               NaN                  0.0   \n",
       "2                NaN            NaN               NaN                  0.0   \n",
       "3                NaN            NaN               NaN                  0.0   \n",
       "4                NaN            NaN               NaN                  0.0   \n",
       "\n",
       "  tax_liens tot_hi_cred_lim total_bal_ex_mort total_bc_limit  \\\n",
       "0       0.0             NaN               NaN            NaN   \n",
       "1       0.0             NaN               NaN            NaN   \n",
       "2       0.0             NaN               NaN            NaN   \n",
       "3       0.0             NaN               NaN            NaN   \n",
       "4       0.0             NaN               NaN            NaN   \n",
       "\n",
       "  total_il_high_credit_limit  \n",
       "0                        NaN  \n",
       "1                        NaN  \n",
       "2                        NaN  \n",
       "3                        NaN  \n",
       "4                        NaN  \n",
       "\n",
       "[5 rows x 111 columns]"
      ]
     },
     "execution_count": 31,
     "metadata": {},
     "output_type": "execute_result"
    }
   ],
   "source": [
    "#check top 5 elements\n",
    "df.head(5)"
   ]
  },
  {
   "cell_type": "code",
   "execution_count": 32,
   "id": "e9c668cf-cd45-47f6-a992-840196ab4251",
   "metadata": {},
   "outputs": [
    {
     "data": {
      "text/plain": [
       "np.int64(54)"
      ]
     },
     "execution_count": 32,
     "metadata": {},
     "output_type": "execute_result"
    }
   ],
   "source": [
    "#get count of columns having all null values\n",
    "df.isna().all()[lambda x: x].count()"
   ]
  },
  {
   "cell_type": "code",
   "execution_count": 33,
   "id": "2bf438c0-6800-49a4-bd1c-232b9d45d7b4",
   "metadata": {},
   "outputs": [],
   "source": [
    "#drop columns having all null values\n",
    "df1=df.dropna(axis=1, how='all')"
   ]
  },
  {
   "cell_type": "code",
   "execution_count": 34,
   "id": "0c0ee445-3457-49e2-ba9d-15ac202e2985",
   "metadata": {},
   "outputs": [
    {
     "name": "stdout",
     "output_type": "stream",
     "text": [
      "<class 'pandas.core.frame.DataFrame'>\n",
      "RangeIndex: 39717 entries, 0 to 39716\n",
      "Data columns (total 57 columns):\n",
      " #   Column                      Non-Null Count  Dtype  \n",
      "---  ------                      --------------  -----  \n",
      " 0   id                          39717 non-null  int64  \n",
      " 1   member_id                   39717 non-null  int64  \n",
      " 2   loan_amnt                   39717 non-null  int64  \n",
      " 3   funded_amnt                 39717 non-null  int64  \n",
      " 4   funded_amnt_inv             39717 non-null  float64\n",
      " 5   term                        39717 non-null  object \n",
      " 6   int_rate                    39717 non-null  object \n",
      " 7   installment                 39717 non-null  float64\n",
      " 8   grade                       39717 non-null  object \n",
      " 9   sub_grade                   39717 non-null  object \n",
      " 10  emp_title                   37258 non-null  object \n",
      " 11  emp_length                  38642 non-null  object \n",
      " 12  home_ownership              39717 non-null  object \n",
      " 13  annual_inc                  39717 non-null  float64\n",
      " 14  verification_status         39717 non-null  object \n",
      " 15  issue_d                     39717 non-null  object \n",
      " 16  loan_status                 39717 non-null  object \n",
      " 17  pymnt_plan                  39717 non-null  object \n",
      " 18  url                         39717 non-null  object \n",
      " 19  desc                        26775 non-null  object \n",
      " 20  purpose                     39717 non-null  object \n",
      " 21  title                       39706 non-null  object \n",
      " 22  zip_code                    39717 non-null  object \n",
      " 23  addr_state                  39717 non-null  object \n",
      " 24  dti                         39717 non-null  float64\n",
      " 25  delinq_2yrs                 39717 non-null  int64  \n",
      " 26  earliest_cr_line            39717 non-null  object \n",
      " 27  inq_last_6mths              39717 non-null  int64  \n",
      " 28  mths_since_last_delinq      14035 non-null  float64\n",
      " 29  mths_since_last_record      2786 non-null   float64\n",
      " 30  open_acc                    39717 non-null  int64  \n",
      " 31  pub_rec                     39717 non-null  int64  \n",
      " 32  revol_bal                   39717 non-null  int64  \n",
      " 33  revol_util                  39667 non-null  object \n",
      " 34  total_acc                   39717 non-null  int64  \n",
      " 35  initial_list_status         39717 non-null  object \n",
      " 36  out_prncp                   39717 non-null  float64\n",
      " 37  out_prncp_inv               39717 non-null  float64\n",
      " 38  total_pymnt                 39717 non-null  float64\n",
      " 39  total_pymnt_inv             39717 non-null  float64\n",
      " 40  total_rec_prncp             39717 non-null  float64\n",
      " 41  total_rec_int               39717 non-null  float64\n",
      " 42  total_rec_late_fee          39717 non-null  float64\n",
      " 43  recoveries                  39717 non-null  float64\n",
      " 44  collection_recovery_fee     39717 non-null  float64\n",
      " 45  last_pymnt_d                39646 non-null  object \n",
      " 46  last_pymnt_amnt             39717 non-null  float64\n",
      " 47  next_pymnt_d                1140 non-null   object \n",
      " 48  last_credit_pull_d          39715 non-null  object \n",
      " 49  collections_12_mths_ex_med  39661 non-null  float64\n",
      " 50  policy_code                 39717 non-null  int64  \n",
      " 51  application_type            39717 non-null  object \n",
      " 52  acc_now_delinq              39717 non-null  int64  \n",
      " 53  chargeoff_within_12_mths    39661 non-null  float64\n",
      " 54  delinq_amnt                 39717 non-null  int64  \n",
      " 55  pub_rec_bankruptcies        39020 non-null  float64\n",
      " 56  tax_liens                   39678 non-null  float64\n",
      "dtypes: float64(20), int64(13), object(24)\n",
      "memory usage: 17.3+ MB\n"
     ]
    }
   ],
   "source": [
    "#column count in df1=111-54=57\n",
    "df1.info()"
   ]
  },
  {
   "cell_type": "code",
   "execution_count": 36,
   "id": "696a63f4-e1c2-4fdd-a662-2826c1a8017a",
   "metadata": {},
   "outputs": [
    {
     "data": {
      "text/plain": [
       "np.int64(14)"
      ]
     },
     "execution_count": 36,
     "metadata": {},
     "output_type": "execute_result"
    }
   ],
   "source": [
    "#columns having any null values.14\n",
    "df1.isna().any()[lambda x: x].count()"
   ]
  },
  {
   "cell_type": "code",
   "execution_count": 37,
   "id": "97147568-ef0e-4128-a078-6d83ca9ec353",
   "metadata": {},
   "outputs": [
    {
     "data": {
      "text/plain": [
       "emp_title                     True\n",
       "emp_length                    True\n",
       "desc                          True\n",
       "title                         True\n",
       "mths_since_last_delinq        True\n",
       "mths_since_last_record        True\n",
       "revol_util                    True\n",
       "last_pymnt_d                  True\n",
       "next_pymnt_d                  True\n",
       "last_credit_pull_d            True\n",
       "collections_12_mths_ex_med    True\n",
       "chargeoff_within_12_mths      True\n",
       "pub_rec_bankruptcies          True\n",
       "tax_liens                     True\n",
       "dtype: bool"
      ]
     },
     "execution_count": 37,
     "metadata": {},
     "output_type": "execute_result"
    }
   ],
   "source": [
    "# which columns having any null values.14\n",
    "df1.isna().any()[lambda x: x]"
   ]
  },
  {
   "cell_type": "code",
   "execution_count": 38,
   "id": "aca1063f-fbcb-427b-b07c-f1a3849c58bc",
   "metadata": {},
   "outputs": [
    {
     "data": {
      "text/plain": [
       "id                                0\n",
       "member_id                         0\n",
       "loan_amnt                         0\n",
       "funded_amnt                       0\n",
       "funded_amnt_inv                   0\n",
       "term                              0\n",
       "int_rate                          0\n",
       "installment                       0\n",
       "grade                             0\n",
       "sub_grade                         0\n",
       "emp_title                      2459\n",
       "emp_length                     1075\n",
       "home_ownership                    0\n",
       "annual_inc                        0\n",
       "verification_status               0\n",
       "issue_d                           0\n",
       "loan_status                       0\n",
       "pymnt_plan                        0\n",
       "url                               0\n",
       "desc                          12942\n",
       "purpose                           0\n",
       "title                            11\n",
       "zip_code                          0\n",
       "addr_state                        0\n",
       "dti                               0\n",
       "delinq_2yrs                       0\n",
       "earliest_cr_line                  0\n",
       "inq_last_6mths                    0\n",
       "mths_since_last_delinq        25682\n",
       "mths_since_last_record        36931\n",
       "open_acc                          0\n",
       "pub_rec                           0\n",
       "revol_bal                         0\n",
       "revol_util                       50\n",
       "total_acc                         0\n",
       "initial_list_status               0\n",
       "out_prncp                         0\n",
       "out_prncp_inv                     0\n",
       "total_pymnt                       0\n",
       "total_pymnt_inv                   0\n",
       "total_rec_prncp                   0\n",
       "total_rec_int                     0\n",
       "total_rec_late_fee                0\n",
       "recoveries                        0\n",
       "collection_recovery_fee           0\n",
       "last_pymnt_d                     71\n",
       "last_pymnt_amnt                   0\n",
       "next_pymnt_d                  38577\n",
       "last_credit_pull_d                2\n",
       "collections_12_mths_ex_med       56\n",
       "policy_code                       0\n",
       "application_type                  0\n",
       "acc_now_delinq                    0\n",
       "chargeoff_within_12_mths         56\n",
       "delinq_amnt                       0\n",
       "pub_rec_bankruptcies            697\n",
       "tax_liens                        39\n",
       "dtype: int64"
      ]
     },
     "execution_count": 38,
     "metadata": {},
     "output_type": "execute_result"
    }
   ],
   "source": [
    "#check count of null values in different columns\n",
    "df1.isna().sum()"
   ]
  },
  {
   "cell_type": "code",
   "execution_count": null,
   "id": "7291eb33-67e0-4428-a277-ea1b391c79e6",
   "metadata": {},
   "outputs": [],
   "source": [
    "#lets start some cleaning"
   ]
  },
  {
   "cell_type": "code",
   "execution_count": 39,
   "id": "4e270eb5-1b1b-4fab-bf3f-5c6122dd9cf3",
   "metadata": {},
   "outputs": [],
   "source": [
    "#drop desc column\n",
    "df1 = df1.drop(columns=['desc'])"
   ]
  },
  {
   "cell_type": "code",
   "execution_count": 40,
   "id": "397b0f09-5396-426d-9b79-30f9a9e6ebd9",
   "metadata": {},
   "outputs": [],
   "source": [
    "#drop rows where emp_length is na. Its important factor for risk assessment.\n",
    "df1 = df1[df1['emp_length'].notna()]"
   ]
  },
  {
   "cell_type": "code",
   "execution_count": 41,
   "id": "84fb041f-8ffb-475a-aad1-5f0d469c01df",
   "metadata": {},
   "outputs": [
    {
     "data": {
      "text/plain": [
       "id                                0\n",
       "member_id                         0\n",
       "loan_amnt                         0\n",
       "funded_amnt                       0\n",
       "funded_amnt_inv                   0\n",
       "term                              0\n",
       "int_rate                          0\n",
       "installment                       0\n",
       "grade                             0\n",
       "sub_grade                         0\n",
       "emp_title                      1440\n",
       "emp_length                        0\n",
       "home_ownership                    0\n",
       "annual_inc                        0\n",
       "verification_status               0\n",
       "issue_d                           0\n",
       "loan_status                       0\n",
       "pymnt_plan                        0\n",
       "url                               0\n",
       "purpose                           0\n",
       "title                            10\n",
       "zip_code                          0\n",
       "addr_state                        0\n",
       "dti                               0\n",
       "delinq_2yrs                       0\n",
       "earliest_cr_line                  0\n",
       "inq_last_6mths                    0\n",
       "mths_since_last_delinq        24952\n",
       "mths_since_last_record        35979\n",
       "open_acc                          0\n",
       "pub_rec                           0\n",
       "revol_bal                         0\n",
       "revol_util                       47\n",
       "total_acc                         0\n",
       "initial_list_status               0\n",
       "out_prncp                         0\n",
       "out_prncp_inv                     0\n",
       "total_pymnt                       0\n",
       "total_pymnt_inv                   0\n",
       "total_rec_prncp                   0\n",
       "total_rec_int                     0\n",
       "total_rec_late_fee                0\n",
       "recoveries                        0\n",
       "collection_recovery_fee           0\n",
       "last_pymnt_d                     66\n",
       "last_pymnt_amnt                   0\n",
       "next_pymnt_d                  37544\n",
       "last_credit_pull_d                2\n",
       "collections_12_mths_ex_med       56\n",
       "policy_code                       0\n",
       "application_type                  0\n",
       "acc_now_delinq                    0\n",
       "chargeoff_within_12_mths         56\n",
       "delinq_amnt                       0\n",
       "pub_rec_bankruptcies            697\n",
       "tax_liens                        39\n",
       "dtype: int64"
      ]
     },
     "execution_count": 41,
     "metadata": {},
     "output_type": "execute_result"
    }
   ],
   "source": [
    "df1.isna().sum()"
   ]
  },
  {
   "cell_type": "code",
   "execution_count": 42,
   "id": "23afc915-2779-4b24-9001-50b7fbd7831e",
   "metadata": {},
   "outputs": [],
   "source": [
    "#insert default value in emp_title\n",
    "df1['emp_title'] = df1['emp_title'].fillna(\"default_title_na\")"
   ]
  },
  {
   "cell_type": "code",
   "execution_count": 43,
   "id": "3a72928d-5112-4a02-a20e-0599c7a5f877",
   "metadata": {},
   "outputs": [
    {
     "data": {
      "text/plain": [
       "id                                0\n",
       "member_id                         0\n",
       "loan_amnt                         0\n",
       "funded_amnt                       0\n",
       "funded_amnt_inv                   0\n",
       "term                              0\n",
       "int_rate                          0\n",
       "installment                       0\n",
       "grade                             0\n",
       "sub_grade                         0\n",
       "emp_title                         0\n",
       "emp_length                        0\n",
       "home_ownership                    0\n",
       "annual_inc                        0\n",
       "verification_status               0\n",
       "issue_d                           0\n",
       "loan_status                       0\n",
       "pymnt_plan                        0\n",
       "url                               0\n",
       "purpose                           0\n",
       "title                            10\n",
       "zip_code                          0\n",
       "addr_state                        0\n",
       "dti                               0\n",
       "delinq_2yrs                       0\n",
       "earliest_cr_line                  0\n",
       "inq_last_6mths                    0\n",
       "mths_since_last_delinq        24952\n",
       "mths_since_last_record        35979\n",
       "open_acc                          0\n",
       "pub_rec                           0\n",
       "revol_bal                         0\n",
       "revol_util                       47\n",
       "total_acc                         0\n",
       "initial_list_status               0\n",
       "out_prncp                         0\n",
       "out_prncp_inv                     0\n",
       "total_pymnt                       0\n",
       "total_pymnt_inv                   0\n",
       "total_rec_prncp                   0\n",
       "total_rec_int                     0\n",
       "total_rec_late_fee                0\n",
       "recoveries                        0\n",
       "collection_recovery_fee           0\n",
       "last_pymnt_d                     66\n",
       "last_pymnt_amnt                   0\n",
       "next_pymnt_d                  37544\n",
       "last_credit_pull_d                2\n",
       "collections_12_mths_ex_med       56\n",
       "policy_code                       0\n",
       "application_type                  0\n",
       "acc_now_delinq                    0\n",
       "chargeoff_within_12_mths         56\n",
       "delinq_amnt                       0\n",
       "pub_rec_bankruptcies            697\n",
       "tax_liens                        39\n",
       "dtype: int64"
      ]
     },
     "execution_count": 43,
     "metadata": {},
     "output_type": "execute_result"
    }
   ],
   "source": [
    "df1.isna().sum()"
   ]
  },
  {
   "cell_type": "code",
   "execution_count": 44,
   "id": "8b71f521-546d-42c0-82e3-fcf76f597dd2",
   "metadata": {},
   "outputs": [],
   "source": [
    "#set default values in title\n",
    "df1['title'] = df1['title'].fillna(\"default_title_na\")"
   ]
  },
  {
   "cell_type": "code",
   "execution_count": 45,
   "id": "77ff2947-d0b3-477a-a0e1-32d28627d0a2",
   "metadata": {},
   "outputs": [
    {
     "data": {
      "text/plain": [
       "id                                0\n",
       "member_id                         0\n",
       "loan_amnt                         0\n",
       "funded_amnt                       0\n",
       "funded_amnt_inv                   0\n",
       "term                              0\n",
       "int_rate                          0\n",
       "installment                       0\n",
       "grade                             0\n",
       "sub_grade                         0\n",
       "emp_title                         0\n",
       "emp_length                        0\n",
       "home_ownership                    0\n",
       "annual_inc                        0\n",
       "verification_status               0\n",
       "issue_d                           0\n",
       "loan_status                       0\n",
       "pymnt_plan                        0\n",
       "url                               0\n",
       "purpose                           0\n",
       "title                             0\n",
       "zip_code                          0\n",
       "addr_state                        0\n",
       "dti                               0\n",
       "delinq_2yrs                       0\n",
       "earliest_cr_line                  0\n",
       "inq_last_6mths                    0\n",
       "mths_since_last_delinq        24952\n",
       "mths_since_last_record        35979\n",
       "open_acc                          0\n",
       "pub_rec                           0\n",
       "revol_bal                         0\n",
       "revol_util                       47\n",
       "total_acc                         0\n",
       "initial_list_status               0\n",
       "out_prncp                         0\n",
       "out_prncp_inv                     0\n",
       "total_pymnt                       0\n",
       "total_pymnt_inv                   0\n",
       "total_rec_prncp                   0\n",
       "total_rec_int                     0\n",
       "total_rec_late_fee                0\n",
       "recoveries                        0\n",
       "collection_recovery_fee           0\n",
       "last_pymnt_d                     66\n",
       "last_pymnt_amnt                   0\n",
       "next_pymnt_d                  37544\n",
       "last_credit_pull_d                2\n",
       "collections_12_mths_ex_med       56\n",
       "policy_code                       0\n",
       "application_type                  0\n",
       "acc_now_delinq                    0\n",
       "chargeoff_within_12_mths         56\n",
       "delinq_amnt                       0\n",
       "pub_rec_bankruptcies            697\n",
       "tax_liens                        39\n",
       "dtype: int64"
      ]
     },
     "execution_count": 45,
     "metadata": {},
     "output_type": "execute_result"
    }
   ],
   "source": [
    "df1.isna().sum()"
   ]
  },
  {
   "cell_type": "code",
   "execution_count": 46,
   "id": "ca3be4cb-5e74-44bd-99d1-73b916d0283a",
   "metadata": {},
   "outputs": [],
   "source": [
    "#data clean-up is mostly done\n",
    "#we can live with NA is rest of columns. Dont think it will hurt us."
   ]
  },
  {
   "cell_type": "code",
   "execution_count": 47,
   "id": "6c05871d-17bc-4175-8a00-104e74f0d271",
   "metadata": {},
   "outputs": [
    {
     "data": {
      "text/plain": [
       "count    38642.000000\n",
       "mean     11291.615988\n",
       "std       7462.136215\n",
       "min        500.000000\n",
       "25%       5500.000000\n",
       "50%      10000.000000\n",
       "75%      15000.000000\n",
       "max      35000.000000\n",
       "Name: loan_amnt, dtype: float64"
      ]
     },
     "execution_count": 47,
     "metadata": {},
     "output_type": "execute_result"
    }
   ],
   "source": [
    "#to check any outlier\n",
    "df1['loan_amnt'].describe()"
   ]
  },
  {
   "cell_type": "code",
   "execution_count": 48,
   "id": "3d2dea5b-bc08-4c3f-afe6-951b0f438372",
   "metadata": {},
   "outputs": [],
   "source": [
    "import matplotlib.pyplot as plt"
   ]
  },
  {
   "cell_type": "code",
   "execution_count": 49,
   "id": "8eb00970-6f55-481f-a52f-c42a05d62651",
   "metadata": {},
   "outputs": [
    {
     "data": {
      "text/plain": [
       "{'whiskers': [<matplotlib.lines.Line2D at 0x1d1efed8aa0>,\n",
       "  <matplotlib.lines.Line2D at 0x1d1efed8d40>],\n",
       " 'caps': [<matplotlib.lines.Line2D at 0x1d1efed9010>,\n",
       "  <matplotlib.lines.Line2D at 0x1d1efed92b0>],\n",
       " 'boxes': [<matplotlib.lines.Line2D at 0x1d1efed8860>],\n",
       " 'medians': [<matplotlib.lines.Line2D at 0x1d1efed9580>],\n",
       " 'fliers': [<matplotlib.lines.Line2D at 0x1d1efed9760>],\n",
       " 'means': []}"
      ]
     },
     "execution_count": 49,
     "metadata": {},
     "output_type": "execute_result"
    },
    {
     "data": {
      "image/png": "[encoded data removed]",
      "text/plain": [
       "<Figure size 640x480 with 1 Axes>"
      ]
     },
     "metadata": {},
     "output_type": "display_data"
    }
   ],
   "source": [
    "plt.boxplot(df1.loan_amnt)"
   ]
  },
  {
   "cell_type": "code",
   "execution_count": 50,
   "id": "80b1478d-d7a1-4eb7-bf99-c915f36e8308",
   "metadata": {},
   "outputs": [],
   "source": [
    "#want to preserve df1\n",
    "df4=df1.copy(deep=True)"
   ]
  },
  {
   "cell_type": "code",
   "execution_count": 51,
   "id": "b6b71cd7-999f-4f76-ac98-4db5b2ea76ed",
   "metadata": {},
   "outputs": [
    {
     "data": {
      "text/plain": [
       "count    37382.000000\n",
       "mean     10563.939864\n",
       "std       6412.638747\n",
       "min        500.000000\n",
       "25%       5350.000000\n",
       "50%       9600.000000\n",
       "75%      15000.000000\n",
       "max      28000.000000\n",
       "Name: loan_amnt, dtype: float64"
      ]
     },
     "execution_count": 51,
     "metadata": {},
     "output_type": "execute_result"
    }
   ],
   "source": [
    "#remove outliers from dataset. Anything greater than 28000.\n",
    "df4=df4[~(df4['loan_amnt'] > 28000)]\n",
    "df4['loan_amnt'].describe()"
   ]
  },
  {
   "cell_type": "code",
   "execution_count": 52,
   "id": "86db57e2-7c3c-4271-8206-db442e46913d",
   "metadata": {},
   "outputs": [
    {
     "data": {
      "text/plain": [
       "{'whiskers': [<matplotlib.lines.Line2D at 0x1d1efe90da0>,\n",
       "  <matplotlib.lines.Line2D at 0x1d1efe91070>],\n",
       " 'caps': [<matplotlib.lines.Line2D at 0x1d1efe911f0>,\n",
       "  <matplotlib.lines.Line2D at 0x1d1efe91460>],\n",
       " 'boxes': [<matplotlib.lines.Line2D at 0x1d1efe90bf0>],\n",
       " 'medians': [<matplotlib.lines.Line2D at 0x1d1efe91760>],\n",
       " 'fliers': [<matplotlib.lines.Line2D at 0x1d1efe919d0>],\n",
       " 'means': []}"
      ]
     },
     "execution_count": 52,
     "metadata": {},
     "output_type": "execute_result"
    },
    {
     "data": {
      "image/png": "[encoded data removed]",
      "text/plain": [
       "<Figure size 640x480 with 1 Axes>"
      ]
     },
     "metadata": {},
     "output_type": "display_data"
    }
   ],
   "source": [
    "plt.boxplot(df4.loan_amnt)"
   ]
  },
  {
   "cell_type": "code",
   "execution_count": 53,
   "id": "4d81e590-165a-4f81-a620-b3e6a4062542",
   "metadata": {},
   "outputs": [
    {
     "data": {
      "text/plain": [
       "emp_length\n",
       "10+ years    8372\n",
       "< 1 year     4497\n",
       "2 years      4289\n",
       "3 years      4001\n",
       "4 years      3348\n",
       "5 years      3180\n",
       "1 year       3178\n",
       "6 years      2156\n",
       "7 years      1716\n",
       "8 years      1417\n",
       "9 years      1228\n",
       "Name: count, dtype: int64"
      ]
     },
     "execution_count": 53,
     "metadata": {},
     "output_type": "execute_result"
    }
   ],
   "source": [
    "#cleaning of emp_length data\n",
    "df4['emp_length'].value_counts()"
   ]
  },
  {
   "cell_type": "code",
   "execution_count": 64,
   "id": "eb35e659-17be-4622-8dac-72071f8d1769",
   "metadata": {},
   "outputs": [
    {
     "data": {
      "text/plain": [
       "emp_length_clean\n",
       "10.1    8372\n",
       "0.9     4497\n",
       "2.0     4289\n",
       "3.0     4001\n",
       "4.0     3348\n",
       "5.0     3180\n",
       "1.0     3178\n",
       "6.0     2156\n",
       "7.0     1716\n",
       "8.0     1417\n",
       "9.0     1228\n",
       "Name: count, dtype: int64"
      ]
     },
     "execution_count": 64,
     "metadata": {},
     "output_type": "execute_result"
    }
   ],
   "source": [
    "#for + \"add\" 0.1 to show greater than particular year and for < \"subract\" 0.1 to show less than particular year\n",
    "\n",
    "def func(a):\n",
    "\n",
    "    if \" years\" in a:\n",
    "        a = a.replace(\" years\", \"\")\n",
    "    else:\n",
    "        a = a.replace(\" year\", \"\")\n",
    "\n",
    "    if \"+\" in a:\n",
    "        a = a.replace(\"+\", \"\")\n",
    "        b = float(a) + 0.1\n",
    "    elif \"< \" in a:\n",
    "        a = a.replace(\"< \", \"\")\n",
    "        b = float(a) - 0.1\n",
    "    else:\n",
    "        b = float(a)\n",
    "\n",
    "    return b\n",
    "    \n",
    "df4['emp_length_clean'] = df4['emp_length'].apply(lambda x: func(x))\n",
    "df4['emp_length_clean'].value_counts()"
   ]
  },
  {
   "cell_type": "code",
   "execution_count": 55,
   "id": "1fc333ac-0c17-4f84-8a26-496c3f335682",
   "metadata": {},
   "outputs": [],
   "source": [
    "# Attributes which might give loan default are : grade, verification_status, loan_status, dti, homeownership\n",
    "# emp_length : higher the value of emp_length, lesser chances of default\n",
    "# dti : higher the dti, higher the chances of default.\n",
    "# relationship between verification_status and loan_status \n",
    "# relationship between loan_status and grade\n",
    "# relationship between dti and loan_status"
   ]
  },
  {
   "cell_type": "code",
   "execution_count": 91,
   "id": "7f0f6f8e-f005-4ced-9f7e-ccc9d66ade87",
   "metadata": {},
   "outputs": [
    {
     "data": {
      "image/png": "[encoded data removed]",
      "text/plain": [
       "<Figure size 640x480 with 1 Axes>"
      ]
     },
     "metadata": {},
     "output_type": "display_data"
    }
   ],
   "source": [
    "#employee job length univatiate analysis. Quite strange data. Loans are mostly taken by employee who has job\n",
    "# less than 2 years or around 10+\n",
    "plt.hist(df4.emp_length_clean,bins=20)\n",
    "plt.show()"
   ]
  },
  {
   "cell_type": "code",
   "execution_count": 160,
   "id": "5ea6c58f-a695-4533-80b8-f2b834f45c4b",
   "metadata": {},
   "outputs": [
    {
     "name": "stdout",
     "output_type": "stream",
     "text": [
      "emp_length_clean\n",
      "10.1    23.8%\n",
      "0.9     12.0%\n",
      "2.0     10.7%\n",
      "3.0     10.3%\n",
      "1.0      8.7%\n",
      "4.0      8.6%\n",
      "5.0      8.5%\n",
      "6.0      5.8%\n",
      "7.0      4.7%\n",
      "8.0      3.8%\n",
      "9.0      3.0%\n",
      "Name: proportion, dtype: object\n"
     ]
    }
   ],
   "source": [
    "# relationship between \"charged off\" status and employee service length.\n",
    "# Its almost directly proportional to the loans distributed amongst various service lenghts.\n",
    "result=df4[df4['loan_status']==\"Charged Off\"]['emp_length_clean'].value_counts(normalize=True).mul(100).round(1).astype(str) + '%'\n",
    "print(result)"
   ]
  },
  {
   "cell_type": "code",
   "execution_count": 177,
   "id": "3641b88f-b1b4-4f61-838b-8f45e6623175",
   "metadata": {},
   "outputs": [
    {
     "name": "stdout",
     "output_type": "stream",
     "text": [
      "purpose\n",
      "debt_consolidation    49.1%\n",
      "other                 11.3%\n",
      "credit_card            9.5%\n",
      "small_business         8.2%\n",
      "home_improvement       6.1%\n",
      "major_purchase         4.1%\n",
      "car                    3.0%\n",
      "medical                1.9%\n",
      "wedding                1.7%\n",
      "moving                 1.6%\n",
      "house                  1.0%\n",
      "educational            1.0%\n",
      "vacation               1.0%\n",
      "renewable_energy       0.3%\n",
      "Name: proportion, dtype: object\n"
     ]
    }
   ],
   "source": [
    "# what kind-off loan were charged off and in what ratio. \n",
    "# top 90% risky purpose are : debt_consolidation, other, credit_card, small_business and home_improvement\n",
    "result=df4[df4['loan_status']==\"Charged Off\"]['purpose'].value_counts(normalize=True).mul(100).round(1).astype(str) + '%'\n",
    "print(result)"
   ]
  },
  {
   "cell_type": "code",
   "execution_count": 179,
   "id": "4356a906-74e9-4a12-bebd-6348da0d9e2a",
   "metadata": {},
   "outputs": [
    {
     "name": "stdout",
     "output_type": "stream",
     "text": [
      "loan_amnt\n",
      "10000    7.0%\n",
      "12000    5.9%\n",
      "15000    5.3%\n",
      "25000    5.2%\n",
      "5000     4.9%\n",
      "         ... \n",
      "5275     0.0%\n",
      "22350    0.0%\n",
      "7725     0.0%\n",
      "2125     0.0%\n",
      "3175     0.0%\n",
      "Name: proportion, Length: 420, dtype: object\n"
     ]
    }
   ],
   "source": [
    "result=df4[(df4['loan_status']==\"Charged Off\") & (df4['purpose'].isin([\"debt_consolidation\",\"other\",\"credit_card\",\"small_business\",\"home_improvement\"]))]['loan_amnt']\\\n",
    ".value_counts(normalize=True).mul(100).round(1).astype(str) + '%'\n",
    "print(result)"
   ]
  },
  {
   "cell_type": "code",
   "execution_count": 183,
   "id": "eb5d0475-ea2e-499c-b437-68d0548aa06e",
   "metadata": {},
   "outputs": [
    {
     "data": {
      "image/png": "[encoded data removed]",
      "text/plain": [
       "<Figure size 640x480 with 1 Axes>"
      ]
     },
     "metadata": {},
     "output_type": "display_data"
    }
   ],
   "source": [
    "# 10000 loan amount range is most suspectible to loan fraud\n",
    "result1=df4[(df4['loan_status']==\"Charged Off\") & (df4['purpose'].isin([\"debt_consolidation\",\"other\",\"credit_card\",\"small_business\",\"home_improvement\"]))]['loan_amnt']\n",
    "plt.hist(result1,bins=50)\n",
    "plt.show()"
   ]
  },
  {
   "cell_type": "code",
   "execution_count": 191,
   "id": "bfcd18d9-0d63-4fef-a9d4-8c3d41443424",
   "metadata": {},
   "outputs": [
    {
     "data": {
      "text/plain": [
       "purpose\n",
       "debt_consolidation    55.1%\n",
       "other                 12.5%\n",
       "credit_card           11.2%\n",
       "home_improvement      11.2%\n",
       "small_business         9.9%\n",
       "Name: proportion, dtype: object"
      ]
     },
     "execution_count": 191,
     "metadata": {},
     "output_type": "execute_result"
    }
   ],
   "source": [
    "# distribution of 10000 loan amount for debt_consolidation is the riskier part.\n",
    "df4[(df4['loan_status']==\"Charged Off\") & (df4['purpose'].isin([\"debt_consolidation\",\"other\",\"credit_card\",\"small_business\",\"home_improvement\"]))\\\n",
    "&(df4['loan_amnt']==10000)]['purpose'].value_counts(normalize=True).mul(100).round(1).astype(str) + '%'\n"
   ]
  },
  {
   "cell_type": "code",
   "execution_count": 148,
   "id": "cac39370-893f-4738-a39b-ea5e0e0b62f3",
   "metadata": {},
   "outputs": [
    {
     "data": {
      "text/plain": [
       "grade\n",
       "B    30.5%\n",
       "A    25.7%\n",
       "C    20.7%\n",
       "D    13.4%\n",
       "E     6.6%\n",
       "F     2.3%\n",
       "G     0.7%\n",
       "Name: proportion, dtype: object"
      ]
     },
     "execution_count": 148,
     "metadata": {},
     "output_type": "execute_result"
    }
   ],
   "source": [
    "#loan grade. Assumption is A is top grade loan and then B and then C etc.\n",
    "# B grade loan is highest.\n",
    "df4['grade'].value_counts(normalize=True).mul(100).round(1).astype(str) + '%'"
   ]
  },
  {
   "cell_type": "code",
   "execution_count": 193,
   "id": "d231bd79-169b-4077-b1cf-caa8d3f090d4",
   "metadata": {},
   "outputs": [
    {
     "data": {
      "text/plain": [
       "grade\n",
       "B    25.7%\n",
       "C    24.3%\n",
       "D    20.4%\n",
       "E    12.1%\n",
       "A    10.8%\n",
       "F     5.1%\n",
       "G     1.7%\n",
       "Name: proportion, dtype: object"
      ]
     },
     "execution_count": 193,
     "metadata": {},
     "output_type": "execute_result"
    }
   ],
   "source": [
    "# loan grades B,C,D,E are more suspectible for charge off.\n",
    "df4[(df4['loan_status']==\"Charged Off\")]['grade'].value_counts(normalize=True).mul(100).round(1).astype(str) + '%'"
   ]
  },
  {
   "cell_type": "code",
   "execution_count": 152,
   "id": "6e2ac6ac-a0f2-48f7-bcaa-da1ef42721d0",
   "metadata": {},
   "outputs": [
    {
     "data": {
      "text/plain": [
       "home_ownership\n",
       "RENT        48.6%\n",
       "MORTGAGE    43.7%\n",
       "OWN          7.4%\n",
       "OTHER        0.3%\n",
       "NONE         0.0%\n",
       "Name: proportion, dtype: object"
      ]
     },
     "execution_count": 152,
     "metadata": {},
     "output_type": "execute_result"
    }
   ],
   "source": [
    "#home ownership\n",
    "df4['home_ownership'].value_counts(normalize=True).mul(100).round(1).astype(str) + '%'"
   ]
  },
  {
   "cell_type": "code",
   "execution_count": 194,
   "id": "a3709f1f-3ecc-4f35-8878-5e994e1fe5b9",
   "metadata": {},
   "outputs": [
    {
     "data": {
      "text/plain": [
       "home_ownership\n",
       "RENT        51.7%\n",
       "MORTGAGE    40.5%\n",
       "OWN          7.5%\n",
       "OTHER        0.3%\n",
       "Name: proportion, dtype: object"
      ]
     },
     "execution_count": 194,
     "metadata": {},
     "output_type": "execute_result"
    }
   ],
   "source": [
    "# relationship between charged off status and home_ownership.\n",
    "# RENT and MORTGAGE home ownership status has high count.\n",
    "df4[(df4['loan_status'] == \"Charged Off\")]['home_ownership'].value_counts(normalize=True).mul(100).round(1).astype(str) + '%'"
   ]
  },
  {
   "cell_type": "code",
   "execution_count": 195,
   "id": "21df005c-610b-4075-9c67-3fc1b56fd925",
   "metadata": {},
   "outputs": [
    {
     "data": {
      "text/plain": [
       "verification_status\n",
       "Not Verified       39.8%\n",
       "Verified           33.8%\n",
       "Source Verified    26.4%\n",
       "Name: proportion, dtype: object"
      ]
     },
     "execution_count": 195,
     "metadata": {},
     "output_type": "execute_result"
    }
   ],
   "source": [
    "#verification status of loan status which are \"charged off\"\n",
    "# \"Not verified\" are 39%.\n",
    "df4[(df4['loan_status'] == \"Charged Off\")]['verification_status'].value_counts(normalize=True).mul(100).round(1).astype(str) + '%'"
   ]
  },
  {
   "cell_type": "code",
   "execution_count": 82,
   "id": "f0db83e6-6fd4-4154-9f1b-e4e90d06b30d",
   "metadata": {},
   "outputs": [
    {
     "data": {
      "image/png": "[encoded data removed]",
      "text/plain": [
       "<Figure size 640x480 with 1 Axes>"
      ]
     },
     "metadata": {},
     "output_type": "display_data"
    }
   ],
   "source": [
    "#How dti is behaving and what we are getting is quite interesting\n",
    "plt.hist(df4.dti,bins=30)\n",
    "plt.show()"
   ]
  },
  {
   "cell_type": "code",
   "execution_count": 151,
   "id": "d0a980a2-8f03-4b49-aa69-72f7bb16e5e2",
   "metadata": {},
   "outputs": [
    {
     "data": {
      "text/plain": [
       "count    37382.000000\n",
       "mean        13.314069\n",
       "std          6.670294\n",
       "min          0.000000\n",
       "25%          8.190000\n",
       "50%         13.400000\n",
       "75%         18.590000\n",
       "max         29.990000\n",
       "Name: dti, dtype: float64"
      ]
     },
     "execution_count": 151,
     "metadata": {},
     "output_type": "execute_result"
    }
   ],
   "source": [
    "df4['dti'].describe()"
   ]
  },
  {
   "cell_type": "code",
   "execution_count": 201,
   "id": "2d1e0d0d-8381-4296-b7e9-3e678581254f",
   "metadata": {},
   "outputs": [
    {
     "data": {
      "image/png": "[encoded data removed]",
      "text/plain": [
       "<Figure size 640x480 with 1 Axes>"
      ]
     },
     "metadata": {},
     "output_type": "display_data"
    }
   ],
   "source": [
    "#relation ship between DTI and loan_status\n",
    "#nothing obvious comes out.\n",
    "df5=df4[(df4['loan_status'] == \"Charged Off\")]\n",
    "plt.hist(df5.dti,bins=30)\n",
    "plt.show()"
   ]
  },
  {
   "cell_type": "code",
   "execution_count": 215,
   "id": "aef36922-421e-4552-9d82-aff75d57bf99",
   "metadata": {},
   "outputs": [
    {
     "data": {
      "text/plain": [
       "'\\nFollowing are main categories of loan default:\\n1. Service length : 1,2,3 and 10+ years\\n2. Purpose of loan : debt_consolidation (top category), others, credit_card, small_business and home_improvement\\n3. loan amount : 10000-15000 loan amount range\\n    Again, distribution of purpose is debt_consolidation (top category), others, credit_card, small_business and home_improvement\\n4. loan grades : B,C,D,E\\n5. home ownership : rent and mortgage\\n6. loan verification status : not verified\\n'"
      ]
     },
     "execution_count": 215,
     "metadata": {},
     "output_type": "execute_result"
    }
   ],
   "source": [
    "\"\"\"\n",
    "Following are main categories of loan default:\n",
    "1. Service length : 1,2,3 and 10+ years\n",
    "2. Purpose of loan : debt_consolidation (top category), others, credit_card, small_business and home_improvement\n",
    "3. loan amount : 10000-15000 loan amount range\n",
    "    Again, distribution of purpose is debt_consolidation (top category), others, credit_card, small_business and home_improvement\n",
    "4. loan grades : B,C,D,E\n",
    "5. home ownership : rent and mortgage\n",
    "6. loan verification status : not verified\n",
    "\n",
    "\"\"\""
   ]
  },
  {
   "cell_type": "code",
   "execution_count": null,
   "id": "25a0aa56-8dbe-447e-8b43-d78f9657a065",
   "metadata": {},
   "outputs": [],
   "source": []
  }
 ],
 "metadata": {
  "kernelspec": {
   "display_name": "Python 3 (ipykernel)",
   "language": "python",
   "name": "python3"
  },
  "language_info": {
   "codemirror_mode": {
    "name": "ipython",
    "version": 3
   },
   "file_extension": ".py",
   "mimetype": "text/x-python",
   "name": "python",
   "nbconvert_exporter": "python",
   "pygments_lexer": "ipython3",
   "version": "3.12.4"
  }
 },
 "nbformat": 4,
 "nbformat_minor": 5
}
